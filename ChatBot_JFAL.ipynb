{
 "cells": [
  {
   "cell_type": "code",
   "execution_count": 1,
   "id": "284b4a3a",
   "metadata": {
    "scrolled": true
   },
   "outputs": [
    {
     "name": "stdout",
     "output_type": "stream",
     "text": [
      "✔ Download and installation successful\n",
      "You can now load the package via spacy.load('en_core_web_sm')\n"
     ]
    }
   ],
   "source": [
    "from chatterbot import ChatBot\n",
    "from chatterbot.trainers import ListTrainer\n",
    "import json\n",
    "from flask import Flask, request\n",
    "\n",
    "from spacy.cli import download\n",
    "\n",
    "download(\"en_core_web_sm\")\n",
    "\n",
    "class ENGSM:\n",
    "    ISO_639_1 = 'en_core_web_sm'\n",
    "\n",
    "app = Flask(__name__)"
   ]
  },
  {
   "cell_type": "code",
   "execution_count": 2,
   "id": "5e14df67",
   "metadata": {},
   "outputs": [
    {
     "name": "stdout",
     "output_type": "stream",
     "text": [
      "List Trainer: [####################] 100%\n"
     ]
    }
   ],
   "source": [
    "chatbot = ChatBot(\"Bot_JFAL\", tagger_language=ENGSM)\n",
    "conversa = [\n",
    "    \"agendar\",\n",
    "    \"Para agendar uma consulta você deve seguir os seguir o passo 01\",\n",
    "    \"minhas consultas\",\n",
    "    \"Para verificar suas consultas você deve seguir o passo 02.\",\n",
    "    \"consultas\",\n",
    "    \"Para verificar suas consultas você deve seguir o passo 02.\",\n",
    "    \"cancelar agendamento\",\n",
    "    \"Para cancelar um agendamento você deve serguir o passo 03\",\n",
    "]\n",
    "\n",
    "trainer = ListTrainer(chatbot)\n",
    "trainer.train(conversa)"
   ]
  },
  {
   "cell_type": "markdown",
   "id": "2c150985",
   "metadata": {},
   "source": [
    "@app.route('/', methods=['GET'])\n",
    "def consulta():\n",
    "    pergunta = request.args.get(\"consulta\")\n",
    "    return chatbot.get_response(pergunta)\n",
    "\n",
    "app.run(debug=True)\n",
    "\n",
    "print('Seja bem vindo ao Espaço Virtual Saúde. Como posso ajudar?')\n",
    "while True:\n",
    "    mensagem = input('Você: ')\n",
    "    if mensagem == \"parar\":\n",
    "        break\n",
    "    resposta = chatbot.get_response(mensagem)\n",
    "    print('JFAL: ' + str(resposta))\n",
    "    "
   ]
  },
  {
   "cell_type": "code",
   "execution_count": 3,
   "id": "036d9457",
   "metadata": {},
   "outputs": [],
   "source": [
    "#chatbot.storage.drop()"
   ]
  },
  {
   "cell_type": "code",
   "execution_count": null,
   "id": "4f2d0296",
   "metadata": {},
   "outputs": [],
   "source": []
  }
 ],
 "metadata": {
  "kernelspec": {
   "display_name": "Python 3 (ipykernel)",
   "language": "python",
   "name": "python3"
  },
  "language_info": {
   "codemirror_mode": {
    "name": "ipython",
    "version": 3
   },
   "file_extension": ".py",
   "mimetype": "text/x-python",
   "name": "python",
   "nbconvert_exporter": "python",
   "pygments_lexer": "ipython3",
   "version": "3.6.13"
  }
 },
 "nbformat": 4,
 "nbformat_minor": 5
}
